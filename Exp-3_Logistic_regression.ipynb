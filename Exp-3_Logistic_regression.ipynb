{
 "cells": [
  {
   "cell_type": "code",
   "execution_count": 1,
   "metadata": {},
   "outputs": [],
   "source": [
    "import pandas as pd\n",
    "from sklearn.model_selection import train_test_split\n",
    "from sklearn.preprocessing import StandardScaler\n",
    "from sklearn.linear_model import LogisticRegression\n",
    "from sklearn.metrics import accuracy_score, classification_report, confusion_matrix"
   ]
  },
  {
   "cell_type": "code",
   "execution_count": 2,
   "metadata": {},
   "outputs": [],
   "source": [
    "import pandas as pd\n",
    "filename = 'Solar_radiation_classification.csv' # Path to external dataset in CSV format\n",
    "data = pd.read_csv(filename, header=0)\n",
    "print(data.head())"
   ]
  },
  {
   "cell_type": "code",
   "execution_count": 4,
   "metadata": {},
   "outputs": [
    {
     "data": {
      "text/plain": [
       "Class\n",
       "Monitoring    576\n",
       "Running       430\n",
       "Inspecting    256\n",
       "Name: count, dtype: int64"
      ]
     },
     "execution_count": 4,
     "metadata": {},
     "output_type": "execute_result"
    }
   ],
   "source": [
    "data['Class'].value_counts()"
   ]
  },
  {
   "cell_type": "code",
   "execution_count": 6,
   "metadata": {},
   "outputs": [],
   "source": [
    "X = data.drop('Class', axis=1)  # Features (all columns except 'Class')\n",
    "y = data['Class']  # Assuming 'Class' column has 3 unique classes\n",
    "X_train, X_test, y_train, y_test = train_test_split(X, y, test_size=0.2, random_state=42)\n",
    "scaler = StandardScaler()\n",
    "X_train_scaled = scaler.fit_transform(X_train)\n",
    "X_test_scaled = scaler.transform(X_test)"
   ]
  },
  {
   "cell_type": "code",
   "execution_count": 10,
   "metadata": {},
   "outputs": [],
   "source": [
    "log_reg = LogisticRegression(multi_class='multinomial',solver='lbfgs',max_iter=1000)\n",
    "log_reg.fit(X_train_scaled, y_train)\n",
    "y_pred = log_reg.predict(X_test_scaled)"
   ]
  },
  {
   "cell_type": "code",
   "execution_count": 11,
   "metadata": {},
   "outputs": [
    {
     "name": "stdout",
     "output_type": "stream",
     "text": [
      "Accuracy: 0.9763\n",
      "Recall: 0.9793\n",
      "Precision: 0.9734\n",
      "F1-Score: 0.9761\n"
     ]
    }
   ],
   "source": [
    "\n",
    "from sklearn.metrics import accuracy_score,recall_score,precision_score,f1_score,precision_recall_curve\n",
    "accuracy = accuracy_score(y_test, y_pred)\n",
    "print(f'Accuracy: {accuracy:.4f}')\n",
    "recall=recall_score(y_test, y_pred,average='macro')  \n",
    "print(f'Recall: {recall:.4f}')\n",
    "precision=precision_score(y_test, y_pred,average='macro')\n",
    "print(f'Precision: {precision:.4f}')\n",
    "f1=f1_score(y_test, y_pred,average='macro')\n",
    "print(f'F1-Score: {f1:.4f}')"
   ]
  },
  {
   "cell_type": "code",
   "execution_count": 12,
   "metadata": {},
   "outputs": [
    {
     "name": "stdout",
     "output_type": "stream",
     "text": [
      "Accuracy: 0.9763\n",
      "Recall: 0.9763\n",
      "Precision: 0.9767\n",
      "F1-Score: 0.9762\n"
     ]
    }
   ],
   "source": [
    "accuracy = accuracy_score(y_test, y_pred)\n",
    "print(f'Accuracy: {accuracy:.4f}')\n",
    "recall=recall_score(y_test, y_pred,average='weighted')\n",
    "print(f'Recall: {recall:.4f}')\n",
    "precision=precision_score(y_test, y_pred,average='weighted')\n",
    "print(f'Precision: {precision:.4f}')\n",
    "f1=f1_score(y_test, y_pred,average='weighted')\n",
    "print(f'F1-Score: {f1:.4f}')"
   ]
  },
  {
   "cell_type": "code",
   "execution_count": 13,
   "metadata": {},
   "outputs": [
    {
     "name": "stdout",
     "output_type": "stream",
     "text": [
      "Confusion Matrix:\n",
      "[[ 53   1   0]\n",
      " [  2 110   3]\n",
      " [  0   0  84]]\n"
     ]
    }
   ],
   "source": [
    "print('Confusion Matrix:')\n",
    "print(confusion_matrix(y_test, y_pred))"
   ]
  },
  {
   "cell_type": "code",
   "execution_count": 14,
   "metadata": {},
   "outputs": [
    {
     "name": "stdout",
     "output_type": "stream",
     "text": [
      "Classification Report:\n",
      "              precision    recall  f1-score   support\n",
      "\n",
      "  Inspecting       0.96      0.98      0.97        54\n",
      "  Monitoring       0.99      0.96      0.97       115\n",
      "     Running       0.97      1.00      0.98        84\n",
      "\n",
      "    accuracy                           0.98       253\n",
      "   macro avg       0.97      0.98      0.98       253\n",
      "weighted avg       0.98      0.98      0.98       253\n",
      "\n"
     ]
    }
   ],
   "source": [
    "print('Classification Report:')\n",
    "print(classification_report(y_test, y_pred))"
   ]
  },
  {
   "cell_type": "code",
   "execution_count": 15,
   "metadata": {},
   "outputs": [],
   "source": [
    "# # Import necessary libraries\n",
    "# import numpy as np\n",
    "# import matplotlib.pyplot as plt\n",
    "# from sklearn.metrics import precision_recall_curve, average_precision_score\n",
    "# from sklearn.preprocessing import label_binarize\n",
    "# from sklearn.metrics import PrecisionRecallDisplay\n",
    "\n",
    "# # Assuming y_test are the true labels and y_pred are the predicted probabilities\n",
    "# # Let's also assume there are 3 classes in the classification task (adjust if needed)\n",
    "\n",
    "# n_classes = 3  # Number of classes\n",
    "# # Binarize the output (one-vs-rest strategy)\n",
    "# y_test_bin = label_binarize(y_test, classes=[0, 1, 2])\n",
    "# y_pred_prob = log_reg.predict_proba(X_test_scaled)\n",
    "\n",
    "# # Initialize variables to store precision, recall, and average precision for each class\n",
    "# precision = dict()\n",
    "# recall = dict()\n",
    "# average_precision = dict()\n",
    "\n",
    "# # Calculate precision-recall curve and average precision for each class\n",
    "# for i in range(n_classes):\n",
    "#     precision[i], recall[i], _ = precision_recall_curve(y_test_bin[:, i], y_pred_prob[:, i])\n",
    "#     average_precision[i] = average_precision_score(y_test_bin[:, i], y_pred_prob[:, i])\n",
    "\n",
    "# # Plot the Precision-Recall curve for each class\n",
    "# plt.figure(figsize=(8, 6))\n",
    "# for i in range(n_classes):\n",
    "#     plt.plot(recall[i], precision[i], lw=2, label=f'Class {i} (AP = {average_precision[i]:0.2f})')\n",
    "\n",
    "# plt.xlabel('Recall')\n",
    "# plt.ylabel('Precision')\n",
    "# plt.title('Precision-Recall Curve for Multiclass Classification')\n",
    "# plt.legend(loc='best')\n",
    "# plt.grid()\n",
    "# plt.show()\n"
   ]
  },
  {
   "cell_type": "code",
   "execution_count": null,
   "metadata": {},
   "outputs": [],
   "source": []
  }
 ],
 "metadata": {
  "kernelspec": {
   "display_name": "Python 3 (ipykernel)",
   "language": "python",
   "name": "python3"
  },
  "language_info": {
   "codemirror_mode": {
    "name": "ipython",
    "version": 3
   },
   "file_extension": ".py",
   "mimetype": "text/x-python",
   "name": "python",
   "nbconvert_exporter": "python",
   "pygments_lexer": "ipython3",
   "version": "3.11.5"
  }
 },
 "nbformat": 4,
 "nbformat_minor": 1
}
