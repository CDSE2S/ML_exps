{
 "cells": [
  {
   "cell_type": "code",
   "execution_count": 1,
   "metadata": {},
   "outputs": [],
   "source": [
    "%matplotlib inline"
   ]
  },
  {
   "cell_type": "code",
   "execution_count": null,
   "metadata": {},
   "outputs": [],
   "source": [
    "import pandas as pd\n",
    "from sklearn.model_selection import train_test_split\n",
    "from sklearn.preprocessing import StandardScaler\n",
    "from sklearn.naive_bayes import GaussianNB\n",
    "from sklearn.metrics import accuracy_score, classification_report, confusion_matrix"
   ]
  },
  {
   "cell_type": "code",
   "execution_count": 4,
   "metadata": {},
   "outputs": [],
   "source": [
    "import pandas as pd\n",
    "filename = 'Solar_radiation_classification.csv' # Path to external dataset in CSV format\n",
    "data = pd.read_csv(filename, header=0)\n",
    "print(data.head())\n",
    "data['Class'].value_counts()"
   ]
  },
  {
   "cell_type": "code",
   "execution_count": 9,
   "metadata": {},
   "outputs": [],
   "source": [
    "X = data.drop('Class', axis=1)  # Features (all columns except 'Class')\n",
    "y = data['Class']  # Assuming 'Class' column has 3 unique classes\n",
    "X_train, X_test, y_train, y_test = train_test_split(X, y, test_size=0.2, random_state=42)"
   ]
  },
  {
   "cell_type": "code",
   "execution_count": 11,
   "metadata": {},
   "outputs": [],
   "source": [
    "scaler = StandardScaler()\n",
    "X_train_scaled = scaler.fit_transform(X_train)\n",
    "X_test_scaled = scaler.transform(X_test)"
   ]
  },
  {
   "cell_type": "code",
   "execution_count": 21,
   "metadata": {},
   "outputs": [],
   "source": [
    "naive_bayes = GaussianNB(priors=None,var_smoothing=1e-09)\n",
    "naive_bayes.fit(X_train_scaled, y_train)\n",
    "y_pred = naive_bayes.predict(X_test_scaled)"
   ]
  },
  {
   "cell_type": "code",
   "execution_count": 38,
   "metadata": {},
   "outputs": [
    {
     "name": "stdout",
     "output_type": "stream",
     "text": [
      "Accuracy: 0.7510\n",
      "Recall: 0.6604\n",
      "Precision: 0.7877\n",
      "F1-Score: 0.6433\n"
     ]
    }
   ],
   "source": [
    "# Evaluate the model\n",
    "from sklearn.metrics import accuracy_score,recall_score,precision_score,f1_score,precision_recall_curve\n",
    "accuracy = accuracy_score(y_test, y_pred)\n",
    "print(f'Accuracy: {accuracy:.4f}')\n",
    "recall=recall_score(y_test, y_pred,average='macro')  \n",
    "# macro: Unweighted average of the metrics for each class.All classes are treated equally.\n",
    "print(f'Recall: {recall:.4f}')\n",
    "precision=precision_score(y_test, y_pred,average='macro')\n",
    "print(f'Precision: {precision:.4f}')\n",
    "f1=f1_score(y_test, y_pred,average='macro')\n",
    "print(f'F1-Score: {f1:.4f}')\n",
    "\n"
   ]
  },
  {
   "cell_type": "code",
   "execution_count": 39,
   "metadata": {},
   "outputs": [
    {
     "name": "stdout",
     "output_type": "stream",
     "text": [
      "Accuracy: 0.7510\n",
      "Recall: 0.7510\n",
      "Precision: 0.7715\n",
      "F1-Score: 0.7051\n"
     ]
    }
   ],
   "source": [
    "accuracy = accuracy_score(y_test, y_pred)\n",
    "print(f'Accuracy: {accuracy:.4f}')\n",
    "recall=recall_score(y_test, y_pred,average='weighted')\n",
    "print(f'Recall: {recall:.4f}')\n",
    "#weighted: Takes class imbalance into account by weighting each class's contribution by \n",
    "#its support (number of true instances).\n",
    "precision=precision_score(y_test, y_pred,average='weighted')\n",
    "print(f'Precision: {precision:.4f}')\n",
    "f1=f1_score(y_test, y_pred,average='weighted')\n",
    "print(f'F1-Score: {f1:.4f}')"
   ]
  },
  {
   "cell_type": "code",
   "execution_count": 40,
   "metadata": {},
   "outputs": [
    {
     "name": "stdout",
     "output_type": "stream",
     "text": [
      "Confusion Matrix:\n",
      "[[  8  46   0]\n",
      " [  2 104   9]\n",
      " [  0   6  78]]\n"
     ]
    }
   ],
   "source": [
    "print('Confusion Matrix:')\n",
    "print(confusion_matrix(y_test, y_pred))"
   ]
  },
  {
   "cell_type": "code",
   "execution_count": 41,
   "metadata": {},
   "outputs": [
    {
     "name": "stdout",
     "output_type": "stream",
     "text": [
      "Classification Report:\n",
      "              precision    recall  f1-score   support\n",
      "\n",
      "  Inspecting       0.80      0.15      0.25        54\n",
      "  Monitoring       0.67      0.90      0.77       115\n",
      "     Running       0.90      0.93      0.91        84\n",
      "\n",
      "    accuracy                           0.75       253\n",
      "   macro avg       0.79      0.66      0.64       253\n",
      "weighted avg       0.77      0.75      0.71       253\n",
      "\n"
     ]
    }
   ],
   "source": [
    "print('Classification Report:')\n",
    "print(classification_report(y_test, y_pred))"
   ]
  },
  {
   "cell_type": "code",
   "execution_count": 15,
   "metadata": {},
   "outputs": [],
   "source": [
    "# # Import necessary libraries\n",
    "# import numpy as np\n",
    "# import matplotlib.pyplot as plt\n",
    "# from sklearn.metrics import precision_recall_curve, average_precision_score\n",
    "# from sklearn.preprocessing import label_binarize\n",
    "# from sklearn.metrics import PrecisionRecallDisplay\n",
    "\n",
    "# # Assuming y_test are the true labels and y_pred are the predicted probabilities\n",
    "# # Let's also assume there are 3 classes in the classification task (adjust if needed)\n",
    "\n",
    "# n_classes = 3  # Number of classes\n",
    "# # Binarize the output (one-vs-rest strategy)\n",
    "# y_test_bin = label_binarize(y_test, classes=[0, 1, 2])\n",
    "# y_pred_prob = log_reg.predict_proba(X_test_scaled)\n",
    "\n",
    "# # Initialize variables to store precision, recall, and average precision for each class\n",
    "# precision = dict()\n",
    "# recall = dict()\n",
    "# average_precision = dict()\n",
    "\n",
    "# # Calculate precision-recall curve and average precision for each class\n",
    "# for i in range(n_classes):\n",
    "#     precision[i], recall[i], _ = precision_recall_curve(y_test_bin[:, i], y_pred_prob[:, i])\n",
    "#     average_precision[i] = average_precision_score(y_test_bin[:, i], y_pred_prob[:, i])\n",
    "\n",
    "# # Plot the Precision-Recall curve for each class\n",
    "# plt.figure(figsize=(8, 6))\n",
    "# for i in range(n_classes):\n",
    "#     plt.plot(recall[i], precision[i], lw=2, label=f'Class {i} (AP = {average_precision[i]:0.2f})')\n",
    "\n",
    "# plt.xlabel('Recall')\n",
    "# plt.ylabel('Precision')\n",
    "# plt.title('Precision-Recall Curve for Multiclass Classification')\n",
    "# plt.legend(loc='best')\n",
    "# plt.grid()\n",
    "# plt.show()\n"
   ]
  },
  {
   "cell_type": "code",
   "execution_count": null,
   "metadata": {},
   "outputs": [],
   "source": []
  }
 ],
 "metadata": {
  "kernelspec": {
   "display_name": "Python 3",
   "language": "python",
   "name": "python3"
  },
  "language_info": {
   "codemirror_mode": {
    "name": "ipython",
    "version": 3
   },
   "file_extension": ".py",
   "mimetype": "text/x-python",
   "name": "python",
   "nbconvert_exporter": "python",
   "pygments_lexer": "ipython3",
   "version": "3.11.4"
  }
 },
 "nbformat": 4,
 "nbformat_minor": 1
}
